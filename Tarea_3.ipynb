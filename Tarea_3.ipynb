{
  "nbformat": 4,
  "nbformat_minor": 0,
  "metadata": {
    "colab": {
      "name": "Tarea 3.ipynb",
      "provenance": [],
      "authorship_tag": "ABX9TyPnT8zQOJcKcrxCaCeiFTkY",
      "include_colab_link": true
    },
    "kernelspec": {
      "name": "python3",
      "display_name": "Python 3"
    }
  },
  "cells": [
    {
      "cell_type": "markdown",
      "metadata": {
        "id": "view-in-github",
        "colab_type": "text"
      },
      "source": [
        "<a href=\"https://colab.research.google.com/github/fjsantim/Computacion/blob/main/Tarea_3.ipynb\" target=\"_parent\"><img src=\"https://colab.research.google.com/assets/colab-badge.svg\" alt=\"Open In Colab\"/></a>"
      ]
    },
    {
      "cell_type": "markdown",
      "metadata": {
        "id": "EmbQtlr51-eK"
      },
      "source": [
        "# Tarea 3\n",
        "\n",
        "## Francisco José Santiago Martínez\n",
        "\n",
        "## Computación"
      ]
    },
    {
      "cell_type": "markdown",
      "metadata": {
        "id": "mlMZqt4geu_z"
      },
      "source": [
        "# Operadores lógicos en python son:\n",
        "\n",
        "|Operador|Descripción|\n",
        "|:---:|:--:|\n",
        "|And|Compara dos elementos y devuelve True si ambos son ciertos|\n",
        "|Or|Compara dos elementos y devuelve True si al menos un elemento es cierto|\n",
        "|Not|Si un valor es falso devuelve True y viceversa|\n",
        "\n",
        "Como ejemplo tomemos \"True\" y \"False\":"
      ]
    },
    {
      "cell_type": "code",
      "metadata": {
        "id": "lDPPMNy_edSo",
        "outputId": "200c263d-bb36-4b8e-9ebb-4c1dd6d23d61",
        "colab": {
          "base_uri": "https://localhost:8080/",
          "height": 85
        }
      },
      "source": [
        "# Ejemplo de código con el operador \"and\"\n",
        "print(\"Para el operador \\'and\\':\")\n",
        "print(\"Dos valores verdaderos \\'True and True\\' devuelve:\", True and True)\n",
        "print(\"Un valor veradero y uno falso \\'True and False\\' devuelve:\", True and False)\n",
        "print(\"Dos valores falsos \\'False and False\\' devuelve:\", False and False)"
      ],
      "execution_count": 18,
      "outputs": [
        {
          "output_type": "stream",
          "text": [
            "Para el operador 'and':\n",
            "Dos valores verdaderos 'True and True' devuelve: True\n",
            "Un valor veradero y uno falso 'True and False' devuelve: False\n",
            "Dos valores falsos 'False and False' devuelve: False\n"
          ],
          "name": "stdout"
        }
      ]
    },
    {
      "cell_type": "code",
      "metadata": {
        "id": "Bamxd0w2gtsJ",
        "outputId": "dc515090-fa71-4d74-a873-9178e0d07216",
        "colab": {
          "base_uri": "https://localhost:8080/",
          "height": 85
        }
      },
      "source": [
        "# Ejemplo de código con el operador \"or\"\n",
        "print(\"Para el operador \\'or\\':\")\n",
        "print(\"Dos valores verdaderos \\'True or True\\' devuelve:\", True or True)\n",
        "print(\"Un valor veradero y uno falso \\'True or False\\' devuelve:\", True or False)\n",
        "print(\"Dos valores falsos \\'False or False\\' devuelve:\", False or False)"
      ],
      "execution_count": 19,
      "outputs": [
        {
          "output_type": "stream",
          "text": [
            "Para el operador 'or':\n",
            "Dos valores verdaderos 'True or True' devuelve: True\n",
            "Un valor veradero y uno falso 'True or False' devuelve: True\n",
            "Dos valores falsos 'False or False' devuelve: False\n"
          ],
          "name": "stdout"
        }
      ]
    },
    {
      "cell_type": "code",
      "metadata": {
        "id": "wc5lxHWGg-pY",
        "outputId": "ef312f36-bad1-4943-84b2-9996f2b3327e",
        "colab": {
          "base_uri": "https://localhost:8080/",
          "height": 68
        }
      },
      "source": [
        "# Ejemplo de código usando el operador \"not\"\n",
        "print(\"Para el operador logico \\'not\\':\")\n",
        "print(\"Not un valor verdadero devuelve:\", not True)\n",
        "print(\"Not un valor falso devuelve:\", not False)"
      ],
      "execution_count": 20,
      "outputs": [
        {
          "output_type": "stream",
          "text": [
            "Para el operador logico 'not':\n",
            "Not un valor verdadero devuelve: False\n",
            "Not un valor falso devuelve: True\n"
          ],
          "name": "stdout"
        }
      ]
    },
    {
      "cell_type": "markdown",
      "metadata": {
        "id": "TXwjFWaUhqDa"
      },
      "source": [
        "# Operadores de comparación en python\n",
        "\n",
        "|Comparador|Descripción|\n",
        "|:---:|:---:|\n",
        "|>|Compara dos elemetos y devuelve True si el elemento de la izquierda es **mayor estricto**|\n",
        "||que el de la derecha, devuelve False en el caso contrario.|\n",
        "|>=|Devuelve True si el elemento a la izquierda es **mayor o igual** al de la derecha.|\n",
        "||devuelve False si el de la izquierda es menor estricto que el de la derecha|\n",
        "|<|Compara dos elementos y devuelve True si el elemento de la izquierda es **menor estricto**|\n",
        "||que el de la derecha, devuelve False en el caso contrario.|\n",
        "|<=|Devuelve True si el elemento de la izquierda es **menor o igual al de la derecha**.|\n",
        "||Devuelve False si el de la izquierda es mayor que el de la derecha.|\n",
        "|==|Compara dos elementos y devuelve True solo si los dos elementos son **iguales**.|\n",
        "|!=|Compara dos elementos y devuelve True solo si los dos elementos son **diferentes**.|"
      ]
    },
    {
      "cell_type": "code",
      "metadata": {
        "id": "xPOJSgNqkJwh",
        "outputId": "f67fb965-ce2f-4724-d7ad-1e279cd5d294",
        "colab": {
          "base_uri": "https://localhost:8080/",
          "height": 85
        }
      },
      "source": [
        "print(\"Ejemplo de código usando \\'>\\':\")\n",
        "print(\"5>4\",5>4)\n",
        "print(\"5>6\",5>6)\n",
        "print(\"5>5\",5>5)"
      ],
      "execution_count": 30,
      "outputs": [
        {
          "output_type": "stream",
          "text": [
            "Ejemplo de código usando '>'\n",
            "5>4 True\n",
            "5>6 False\n",
            "5>5 False\n"
          ],
          "name": "stdout"
        }
      ]
    },
    {
      "cell_type": "code",
      "metadata": {
        "id": "kLbHkw45kovh",
        "outputId": "39431858-923b-402e-f8f6-d1a64038f07b",
        "colab": {
          "base_uri": "https://localhost:8080/",
          "height": 85
        }
      },
      "source": [
        "print(\"Ejemplo de código usando \\'>=\\':\")\n",
        "print(\"5>=4\",5>=4)\n",
        "print(\"5>=5\",5>=5)\n",
        "print(\"5>=6\",5>=6)"
      ],
      "execution_count": 28,
      "outputs": [
        {
          "output_type": "stream",
          "text": [
            "Ejemplo de código usando '>='\n",
            "5>=4 True\n",
            "5>=5 True\n",
            "5>=6 False\n"
          ],
          "name": "stdout"
        }
      ]
    },
    {
      "cell_type": "code",
      "metadata": {
        "id": "-V_Auhvzk22a",
        "outputId": "a351cb00-273d-4c54-b13c-e3a51029e822",
        "colab": {
          "base_uri": "https://localhost:8080/",
          "height": 85
        }
      },
      "source": [
        "print(\"Ejemplo de código usando \\'<\\':\")\n",
        "print(\"5<4\",5<4)\n",
        "print(\"5<6\",5<6)\n",
        "print(\"5<5\",5<5)"
      ],
      "execution_count": 31,
      "outputs": [
        {
          "output_type": "stream",
          "text": [
            "Ejemplo de código usando '<'\n",
            "5<4 False\n",
            "5<6 True\n",
            "5<5 False\n"
          ],
          "name": "stdout"
        }
      ]
    },
    {
      "cell_type": "code",
      "metadata": {
        "id": "TLh_1PITlK3L",
        "outputId": "f5c09506-f988-49e8-8cc1-f38f9538ea50",
        "colab": {
          "base_uri": "https://localhost:8080/",
          "height": 85
        }
      },
      "source": [
        "print(\"Ejemplo de código usando \\'<=\\':\")\n",
        "print(\"5<=4\",5<=4)\n",
        "print(\"5<=5\",5<=5)\n",
        "print(\"5<=6\",5<=6)"
      ],
      "execution_count": 32,
      "outputs": [
        {
          "output_type": "stream",
          "text": [
            "Ejemplo de código usando '<='\n",
            "5<=4 False\n",
            "5<=5 True\n",
            "5<=6 True\n"
          ],
          "name": "stdout"
        }
      ]
    },
    {
      "cell_type": "code",
      "metadata": {
        "id": "VdBKOpV-lR-s",
        "outputId": "bb0b9030-e6d2-4cd9-e20d-75f9a5a72fcb",
        "colab": {
          "base_uri": "https://localhost:8080/",
          "height": 85
        }
      },
      "source": [
        "print(\"Ejemplo de código usando \\'==\\':\")\n",
        "print(\"5==4\",5==4)\n",
        "print(\"5==5\",5==5)\n",
        "print(\"5==6\",5==6)"
      ],
      "execution_count": 33,
      "outputs": [
        {
          "output_type": "stream",
          "text": [
            "Ejemplo de código usando '=='\n",
            "5==4 False\n",
            "5==5 True\n",
            "5==6 False\n"
          ],
          "name": "stdout"
        }
      ]
    },
    {
      "cell_type": "code",
      "metadata": {
        "id": "G35ldcealdpT",
        "outputId": "cb16a548-0d80-450f-f65a-46c7e987009e",
        "colab": {
          "base_uri": "https://localhost:8080/",
          "height": 85
        }
      },
      "source": [
        "print(\"Ejemplo de código usando \\'!=\\':\")\n",
        "print(\"5!=4\",5!=4)\n",
        "print(\"5!=5\",5!=5)\n",
        "print(\"5!=6\",5!=6)"
      ],
      "execution_count": 35,
      "outputs": [
        {
          "output_type": "stream",
          "text": [
            "Ejemplo de código usando '!=':\n",
            "5!=4 True\n",
            "5!=5 False\n",
            "5!=6 True\n"
          ],
          "name": "stdout"
        }
      ]
    },
    {
      "cell_type": "markdown",
      "metadata": {
        "id": "pPnaA4O_mCBQ"
      },
      "source": [
        "# Programa para cálculo de impuestos\n",
        "\n",
        "El programa tendrá tres entradas: el número de productos $p_1$, el peso unitario $P_1$ del producto (en kilogramos) y el precio unitario del producto $p_2$. A partir de estos valores se tiene lo siguiente:\n",
        "\n",
        "+ Si  el peso total de la compra $p_1\\cdot P_1\\geq1000~\\text{kg}$ se cobrará el precio total $p_1\\cdot p_2$ más el 16% de esto, es decir el precio neto $P_N$ a pagar:\n",
        "\n",
        "$$P_N = p_1\\cdot p_2 + (0.16\\cdot p_1\\cdot p_2)$$\n",
        "\n",
        "+ Por otro lado si el peso total de la compra es $p_1\\cdot P_1 < 1000~\\text{kg}$ solo se cobrará el precio total $p_1\\cdot p_2$, es decir el precio neto a pagar será de:\n",
        "\n",
        "$$P_N=p_1\\cdot p_2$$"
      ]
    },
    {
      "cell_type": "code",
      "metadata": {
        "id": "wZubYDoFmL-a",
        "outputId": "c2679dc3-d812-4106-a675-28604482812b",
        "colab": {
          "base_uri": "https://localhost:8080/",
          "height": 85
        }
      },
      "source": [
        "productos = float(input(\"Cuantos productos compra? \"))\n",
        "peso = float(input(\"Cual es el peso en kilogramos por unidad? \"))\n",
        "precio = float(input(\"Cual es el precio por unidad? \"))\n",
        "\n",
        "pesototal = productos*peso\n",
        "\n",
        "\n",
        "if pesototal >= 1000.0:\n",
        "  preciototal = productos*precio + 0.16*productos*precio\n",
        "  print(\"Deberá pagar impuestos, su total es de: \", preciototal)\n",
        "  \n",
        "elif pesototal < 1000.0:\n",
        "  preciototal = productos*precio\n",
        "  print(\"No pagará impuestos, su total es de :\", preciototal)\n"
      ],
      "execution_count": 73,
      "outputs": [
        {
          "output_type": "stream",
          "text": [
            "Cuantos productos compra? 15\n",
            "Cual es el peso en kilogramos por unidad? 100\n",
            "Cual es el precio por unidad? 2000\n",
            "Deberá pagar impuestos, su total es de:  34800.0\n"
          ],
          "name": "stdout"
        }
      ]
    },
    {
      "cell_type": "markdown",
      "metadata": {
        "id": "sm_TLNiktpvf"
      },
      "source": [
        "# Programa v2 para cálculo de impuestos\n",
        "\n",
        "Como en el anterior el programa tendrá tres entradas: el número de productos $p_1$, el peso unitario $P_1$ del producto (en kilogramos) y el precio unitario del producto $p_2$. A partir de estos valores se tiene lo siguiente:\n",
        "\n",
        "+ Si  el peso total de la compra $p_1\\cdot P_1\\geq1000~\\text{kg}$ y $p_1\\cdot P_1<2100~\\text{kg}$ el impuesto será de 16% más el 0.3% extra por cada $100~\\text{kg}$ extra después de $1000~\\text{kg}$.\n",
        "\n",
        "  El impuesto extra $\\varepsilon$ se puede determinar usando el operador cociente de la siguiente forma:\n",
        "\n",
        "  $$\\varepsilon = 0.003\\left(\\frac{p_1\\cdot P_1}{100}-10\\right)$$\n",
        "\n",
        "  El término entre parentesis indica cuantas el número de multiplos de $100~\\text{kg}$ después de $1000~\\text{kg}$ hay en el peso total. De este modo el impuesto extra será 0.3% veces por cada $100~\\text{kg}$ extra después de $1000~\\text{kg}$ según se requiere.\n",
        "\n",
        "  Finalmente el precio neto a pagar será el precio total $p_1\\cdot p_2$ más el impuesto $0.16+\\varepsilon$:\n",
        "\n",
        "  $$P_N = p_1\\cdot p_2 + ((0.16+\\varepsilon)\\cdot p_1\\cdot p_2)$$\n",
        "\n",
        "+ Si el peso total el mayor o igual a $2100~\\text{kg}$ se tomará el máximo del impuesto extra $\\varepsilon_1=0.003\\cdot11$, es decir el precio neto a pagar será de:\n",
        "\n",
        "  $$P_N=p_1\\cdot p_2+(0.16+0.003\\cdot11)p_1\\cdot p_2$$\n",
        "\n",
        "+ Y si el peso total de la compra es $p_1\\cdot P_1 < 1000~\\text{kg}$ solo se cobrará el precio total $p_1\\cdot p_2$, es decir el precio neto a pagar será de:\n",
        "\n",
        "$$P_N=p_1\\cdot p_2$$"
      ]
    },
    {
      "cell_type": "code",
      "metadata": {
        "id": "hgWnJ_1QtpEN",
        "outputId": "25b3128c-28b9-417e-a6b4-5c9323954db7",
        "colab": {
          "base_uri": "https://localhost:8080/",
          "height": 85
        }
      },
      "source": [
        "productos = float(input(\"Cuantos productos compra? \"))\n",
        "peso = float(input(\"Cual es el peso en kilogramos por unidad? \"))\n",
        "precio = float(input(\"Cual es el precio por unidad? \"))\n",
        "\n",
        "pesototal = productos*peso\n",
        "\n",
        "\n",
        "if pesototal >= 1000.0 and pesototal < 2100.0:\n",
        "  preciototal = productos*precio\n",
        "  extra = pesototal//100 - 10\n",
        "  preciototal = preciototal + (0.16 + 0.003*extra)*preciototal\n",
        "  print(\"Deberá pagar impuestos, su total es de: \", preciototal)\n",
        "\n",
        "elif pesototal >= 2100.0:\n",
        "  preciototal = productos*precio\n",
        "  preciototal = preciototal + (0.16 + 0.003*11)*preciototal\n",
        "  print(\"Deberá pagar impuestos, su total es de: \", preciototal)\n",
        "  \n",
        "elif pesototal < 1000.0:\n",
        "  preciototal = productos*precio\n",
        "  print(\"No pagará impuestos, su total es de :\", preciototal)"
      ],
      "execution_count": 77,
      "outputs": [
        {
          "output_type": "stream",
          "text": [
            "Cuantos productos compra? 22\n",
            "Cual es el peso en kilogramos por unidad? 100\n",
            "Cual es el precio por unidad? 45\n",
            "Deberá pagar impuestos, su total es de:  1181.07\n"
          ],
          "name": "stdout"
        }
      ]
    }
  ]
}